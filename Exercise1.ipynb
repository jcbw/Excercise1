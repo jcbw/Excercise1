{
 "cells": [
  {
   "cell_type": "code",
   "execution_count": null,
   "metadata": {},
   "outputs": [],
   "source": [
    "ice_cream_rating = 8\n",
    "sleeping_rating = 10"
   ]
  },
  {
   "cell_type": "markdown",
   "metadata": {},
   "source": [
    "first_name = input('What is your first name: ')\n",
    "last_name = input('What is your last name: ')\n",
    "my_name = first_name + ' ' +last_name\n",
    "print(my_name)"
   ]
  },
  {
   "cell_type": "markdown",
   "metadata": {},
   "source": [
    "import numpy as np\n",
    "happiness_rating = np.average([ice_cream_rating,sleeping_rating])\n",
    "print(happiness_rating)"
   ]
  },
  {
   "cell_type": "markdown",
   "metadata": {},
   "source": [
    "type(ice_cream_rating),type(first_name),type(happiness_rating)"
   ]
  },
  {
   "cell_type": "code",
   "execution_count": 5,
   "metadata": {},
   "outputs": [
    {
     "name": "stdout",
     "output_type": "stream",
     "text": [
      "My name is Dave and I give eating ice cream a score of 9 out of 10!\n"
     ]
    }
   ],
   "source": [
    "print(\"My name is\",first_name.replace(first_name, \"Dave\"),\"and I give eating ice cream a score of\", str(ice_cream_rating).replace((str(ice_cream_rating)),\"9\"),\"out of 10!\")"
   ]
  },
  {
   "cell_type": "code",
   "execution_count": 6,
   "metadata": {},
   "outputs": [
    {
     "name": "stdout",
     "output_type": "stream",
     "text": [
      "I am Dave Whipp and my sleeping enjoyment rating is 8 / 10!\n"
     ]
    }
   ],
   "source": [
    "print(\"I am\", my_name.replace(my_name, \"Dave Whipp\"),\"and my sleeping enjoyment rating is\",str(sleeping_rating).replace((str(sleeping_rating)),\"8\"),\"/ 10!\")"
   ]
  },
  {
   "cell_type": "code",
   "execution_count": 7,
   "metadata": {},
   "outputs": [
    {
     "name": "stdout",
     "output_type": "stream",
     "text": [
      "Based on the factors above, my happiness rating is 8.5 out of 10, or 85.0 %!\n"
     ]
    }
   ],
   "source": [
    "print(\"Based on the factors above, my happiness rating is\", str(happiness_rating).replace((str(happiness_rating)),\"8.5\"),\"out of 10, or 85.0 %!\")"
   ]
  }
 ],
 "metadata": {
  "kernelspec": {
   "display_name": "Python 3",
   "language": "python",
   "name": "python3"
  },
  "language_info": {
   "codemirror_mode": {
    "name": "ipython",
    "version": 3
   },
   "file_extension": ".py",
   "mimetype": "text/x-python",
   "name": "python",
   "nbconvert_exporter": "python",
   "pygments_lexer": "ipython3",
   "version": "3.7.4"
  }
 },
 "nbformat": 4,
 "nbformat_minor": 2
}
